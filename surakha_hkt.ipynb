{
  "nbformat": 4,
  "nbformat_minor": 0,
  "metadata": {
    "colab": {
      "provenance": []
    },
    "kernelspec": {
      "name": "python3",
      "display_name": "Python 3"
    },
    "language_info": {
      "name": "python"
    }
  },
  "cells": [
    {
      "cell_type": "code",
      "execution_count": 1,
      "metadata": {
        "id": "bVDMlPgdnK62"
      },
      "outputs": [],
      "source": [
        "import numpy as np\n",
        "from sklearn.ensemble import IsolationForest\n",
        "import asyncio\n",
        "import platform"
      ]
    },
    {
      "cell_type": "code",
      "source": [
        "# Simulate synthetic behavioral data\n",
        "def generate_synthetic_data(n_samples=1000, n_features=5, anomaly_ratio=0.05):\n",
        "    np.random.seed(42)\n",
        "    normal_data = np.random.normal(0, 1, (int(n_samples * (1 - anomaly_ratio)), n_features))\n",
        "    anomalous_data = np.random.uniform(-5, 5, (int(n_samples * anomaly_ratio), n_features))\n",
        "    data = np.vstack([normal_data, anomalous_data])\n",
        "    labels = np.array([1] * len(normal_data) + [-1] * len(anomalous_data))\n",
        "    return data, labels"
      ],
      "metadata": {
        "id": "DSJjHGfpnTCM"
      },
      "execution_count": 2,
      "outputs": []
    },
    {
      "cell_type": "code",
      "source": [
        "# Behavioral Authentication System\n",
        "class SecureBBA:\n",
        "    def __init__(self, contamination=0.05):\n",
        "        self.model = IsolationForest(contamination=contamination, random_state=42)\n",
        "        self.threshold = -0.5  # Adjustable threshold for anomaly detection\n",
        "        self.is_trained = False\n",
        "\n",
        "    def train(self, data):\n",
        "        self.model.fit(data)\n",
        "        self.is_trained = True\n",
        "        print(\"Model trained successfully.\")\n",
        "\n",
        "    def detect_anomaly(self, sample):\n",
        "        if not self.is_trained:\n",
        "            raise ValueError(\"Model must be trained before detecting anomalies.\")\n",
        "        score = self.model.score_samples([sample])[0]\n",
        "        return score, score < self.threshold\n",
        "\n",
        "    def respond_to_anomaly(self, score, is_anomaly):\n",
        "        if not is_anomaly:\n",
        "            return \"Normal behavior detected.\"\n",
        "        if score < -0.7:\n",
        "            return \"High-risk anomaly detected: Session terminated.\"\n",
        "        elif score < -0.5:\n",
        "            return \"Medium-risk anomaly: Restricting high-value transactions.\"\n",
        "        else:\n",
        "            return \"Low-risk anomaly: Requesting additional verification.\""
      ],
      "metadata": {
        "id": "eK_fWkcPnXIC"
      },
      "execution_count": 3,
      "outputs": []
    },
    {
      "cell_type": "code",
      "source": [
        "# Main simulation loop\n",
        "async def main():\n",
        "    # Generate synthetic data (typing speed, swipe speed, tap pressure, device tilt, navigation time)\n",
        "    data, labels = generate_synthetic_data(n_samples=1000, n_features=5, anomaly_ratio=0.05)\n",
        "\n",
        "    # Initialize and train the model\n",
        "    bba = SecureBBA(contamination=0.05)\n",
        "    bba.train(data)\n",
        "\n",
        "    # Simulate real-time authentication for 10 samples\n",
        "    test_samples = np.random.normal(0, 1, (10, 5))  # Normal user behavior\n",
        "    test_samples[8] = np.random.uniform(-5, 5, 5)  # Introduce an anomaly\n",
        "    test_samples[9] = np.random.uniform(-5, 5, 5)  # Another anomaly\n",
        "\n",
        "    for i, sample in enumerate(test_samples):\n",
        "        score, is_anomaly = bba.detect_anomaly(sample)\n",
        "        response = bba.respond_to_anomaly(score, is_anomaly)\n",
        "        print(f\"Sample {i+1}: Score={score:.3f}, Anomaly={is_anomaly}, Response={response}\")\n",
        "        await asyncio.sleep(0.1)  # Simulate real-time processing\n"
      ],
      "metadata": {
        "id": "fYW6-CRknbt1"
      },
      "execution_count": 4,
      "outputs": []
    },
    {
      "cell_type": "code",
      "source": [
        "# Run the simulation\n",
        "# Check if the environment is Emscripten (e.g., Pyodide)\n",
        "if platform.system() == \"Emscripten\":\n",
        "    # Use ensure_future for environments that require explicit task scheduling\n",
        "    asyncio.ensure_future(main())\n",
        "else:\n",
        "    # For standard Python environments like Jupyter,\n",
        "    # directly await the async function instead of using asyncio.run()\n",
        "    # which starts a new event loop. Jupyter often manages its own loop.\n",
        "    # We also wrap it in an async definition to use await.\n",
        "    async def run_main():\n",
        "        await main()\n",
        "\n",
        "    # Call the async wrapper function\n",
        "    await run_main()"
      ],
      "metadata": {
        "colab": {
          "base_uri": "https://localhost:8080/"
        },
        "id": "8YyHF5_Hngoe",
        "outputId": "d4ef125d-1cdc-4e46-9ad0-314369c5cf7f"
      },
      "execution_count": 7,
      "outputs": [
        {
          "output_type": "stream",
          "name": "stderr",
          "text": [
            "/usr/lib/python3.11/threading.py:254: RuntimeWarning: coroutine 'main' was never awaited\n",
            "  self._release_save = lock._release_save\n",
            "RuntimeWarning: Enable tracemalloc to get the object allocation traceback\n"
          ]
        },
        {
          "output_type": "stream",
          "name": "stdout",
          "text": [
            "Model trained successfully.\n",
            "Sample 1: Score=-0.400, Anomaly=False, Response=Normal behavior detected.\n",
            "Sample 2: Score=-0.393, Anomaly=False, Response=Normal behavior detected.\n",
            "Sample 3: Score=-0.387, Anomaly=False, Response=Normal behavior detected.\n",
            "Sample 4: Score=-0.396, Anomaly=False, Response=Normal behavior detected.\n",
            "Sample 5: Score=-0.365, Anomaly=False, Response=Normal behavior detected.\n",
            "Sample 6: Score=-0.399, Anomaly=False, Response=Normal behavior detected.\n",
            "Sample 7: Score=-0.480, Anomaly=False, Response=Normal behavior detected.\n",
            "Sample 8: Score=-0.453, Anomaly=False, Response=Normal behavior detected.\n",
            "Sample 9: Score=-0.674, Anomaly=True, Response=Medium-risk anomaly: Restricting high-value transactions.\n",
            "Sample 10: Score=-0.616, Anomaly=True, Response=Medium-risk anomaly: Restricting high-value transactions.\n"
          ]
        }
      ]
    },
    {
      "cell_type": "code",
      "source": [],
      "metadata": {
        "id": "HK_u8N69nklD"
      },
      "execution_count": null,
      "outputs": []
    }
  ]
}